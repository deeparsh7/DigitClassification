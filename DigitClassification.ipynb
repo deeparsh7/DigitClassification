{
  "nbformat": 4,
  "nbformat_minor": 0,
  "metadata": {
    "colab": {
      "provenance": [],
      "authorship_tag": "ABX9TyNdPfD0fPZazqPWZqxr7j8R",
      "include_colab_link": true
    },
    "kernelspec": {
      "name": "python3",
      "display_name": "Python 3"
    },
    "language_info": {
      "name": "python"
    }
  },
  "cells": [
    {
      "cell_type": "markdown",
      "metadata": {
        "id": "view-in-github",
        "colab_type": "text"
      },
      "source": [
        "<a href=\"https://colab.research.google.com/github/deeparsh7/DigitClassification/blob/main/DigitClassification.ipynb\" target=\"_parent\"><img src=\"https://colab.research.google.com/assets/colab-badge.svg\" alt=\"Open In Colab\"/></a>"
      ]
    },
    {
      "cell_type": "code",
      "execution_count": 2,
      "metadata": {
        "id": "G2PZyZedBq16"
      },
      "outputs": [],
      "source": [
        "# Import the TensorFlow library.\n",
        "import tensorflow as tf\n",
        "\n",
        "# Load the MNIST dataset using the tf.keras.datasets module.\n",
        "mnist = tf.keras.datasets.mnist\n",
        "\n",
        "# Unpack the training and testing data from the MNIST dataset.\n",
        "# (x_train, y_train) contains the training images and their corresponding labels.\n",
        "# (x_test, y_test) contains the test images and their corresponding labels.\n",
        "(x_train, y_train), (x_test, y_test) = mnist.load_data()\n"
      ]
    },
    {
      "cell_type": "code",
      "source": [
        "# Normalize pixel values of the training and test images to a range of 0 to 1.\n",
        "x_train, x_test = x_train / 255.0, x_test / 255.0\n",
        "\n",
        "# Reshape the training images to match the expected input shape of the model.\n",
        "# '-1' indicates that the size of that dimension will be automatically determined based on the other dimensions.\n",
        "# The new shape is (number_of_samples, 28, 28, 1), where 'number_of_samples' is the total number of training samples.\n",
        "# The '1' at the end indicates that the images have a single channel (grayscale).\n",
        "x_train = x_train.reshape(-1, 28, 28, 1)\n",
        "\n",
        "# Reshape the test images similarly to the training images.\n",
        "x_test = x_test.reshape(-1, 28, 28, 1)\n"
      ],
      "metadata": {
        "id": "vHEoe8QqB1wP"
      },
      "execution_count": 3,
      "outputs": []
    },
    {
      "cell_type": "code",
      "source": [
        "import tensorflow as tf\n",
        "\n",
        "# Create a Sequential model, which is a linear stack of layers.\n",
        "model = tf.keras.Sequential([\n",
        "    # Add a 2D convolutional layer with 32 filters (or kernels) of size 3x3.\n",
        "    # Apply the ReLU activation function to the output of this layer.\n",
        "    # Set the input shape of the layer to (28, 28, 1), representing a grayscale image.\n",
        "    tf.keras.layers.Conv2D(32, (3, 3), activation='relu', input_shape=(28, 28, 1)),\n",
        "\n",
        "    # Add a 2D max-pooling layer with a 2x2 pool size.\n",
        "    # This layer downsamples the feature maps obtained from the previous convolutional layer.\n",
        "    tf.keras.layers.MaxPooling2D((2, 2)),\n",
        "\n",
        "    # Flatten the 2D feature maps into a 1D vector.\n",
        "    # This prepares the data for passing through fully connected (dense) layers.\n",
        "    tf.keras.layers.Flatten(),\n",
        "\n",
        "    # Add a fully connected (dense) layer with 128 units.\n",
        "    # Apply the ReLU activation function to the output of this layer.\n",
        "    tf.keras.layers.Dense(128, activation='relu'),\n",
        "\n",
        "    # Add another fully connected (dense) layer with 10 units.\n",
        "    # Softmax converts the raw scores into probability values for classification.\n",
        "    tf.keras.layers.Dense(10, activation='softmax')\n",
        "])\n"
      ],
      "metadata": {
        "id": "UX8DlhcTB6Gw"
      },
      "execution_count": 4,
      "outputs": []
    },
    {
      "cell_type": "code",
      "source": [
        "# Compile the model using the Adam optimizer.\n",
        "# The optimizer is responsible for updating the model's weights during training.\n",
        "# 'adam' is an efficient variant of stochastic gradient descent.\n",
        "model.compile(optimizer='adam',\n",
        "\n",
        "              # Use the sparse categorical cross-entropy loss function.\n",
        "              # This is suitable for multi-class classification tasks where the target labels are integers.\n",
        "              # It calculates the loss between the true labels and the predicted probabilities.\n",
        "              loss='sparse_categorical_crossentropy',\n",
        "\n",
        "              # Define metrics to track during training.\n",
        "              metrics=['accuracy'])\n",
        "\n",
        "# Train the model using the training data.\n",
        "# 'x_train' contains the input training data (images),\n",
        "# and 'y_train' contains the corresponding target labels.\n",
        "# Perform training for 10 epochs (iterations over the entire dataset).\n",
        "model.fit(x_train, y_train, epochs=10, batch_size=32)\n"
      ],
      "metadata": {
        "colab": {
          "base_uri": "https://localhost:8080/"
        },
        "id": "rC9bafsqB92d",
        "outputId": "a28f828c-3933-4c88-887b-b43e5c8f928e"
      },
      "execution_count": 5,
      "outputs": [
        {
          "output_type": "stream",
          "name": "stdout",
          "text": [
            "Epoch 1/10\n",
            "1875/1875 [==============================] - 50s 26ms/step - loss: 0.1449 - accuracy: 0.9564\n",
            "Epoch 2/10\n",
            "1875/1875 [==============================] - 49s 26ms/step - loss: 0.0499 - accuracy: 0.9851\n",
            "Epoch 3/10\n",
            "1875/1875 [==============================] - 46s 24ms/step - loss: 0.0314 - accuracy: 0.9902\n",
            "Epoch 4/10\n",
            "1875/1875 [==============================] - 47s 25ms/step - loss: 0.0204 - accuracy: 0.9934\n",
            "Epoch 5/10\n",
            "1875/1875 [==============================] - 47s 25ms/step - loss: 0.0144 - accuracy: 0.9955\n",
            "Epoch 6/10\n",
            "1875/1875 [==============================] - 47s 25ms/step - loss: 0.0096 - accuracy: 0.9969\n",
            "Epoch 7/10\n",
            "1875/1875 [==============================] - 47s 25ms/step - loss: 0.0070 - accuracy: 0.9977\n",
            "Epoch 8/10\n",
            "1875/1875 [==============================] - 49s 26ms/step - loss: 0.0064 - accuracy: 0.9980\n",
            "Epoch 9/10\n",
            "1875/1875 [==============================] - 46s 25ms/step - loss: 0.0057 - accuracy: 0.9983\n",
            "Epoch 10/10\n",
            "1875/1875 [==============================] - 45s 24ms/step - loss: 0.0046 - accuracy: 0.9984\n"
          ]
        },
        {
          "output_type": "execute_result",
          "data": {
            "text/plain": [
              "<keras.callbacks.History at 0x7b515f7dbcd0>"
            ]
          },
          "metadata": {},
          "execution_count": 5
        }
      ]
    },
    {
      "cell_type": "code",
      "source": [
        "# Evaluate the trained model's performance on the test data.\n",
        "# 'x_test' contains the input test data (images),\n",
        "# and 'y_test' contains the corresponding target labels.\n",
        "test_loss, test_accuracy = model.evaluate(x_test, y_test)\n",
        "\n",
        "# Print the test accuracy obtained from the evaluation.\n",
        "print(\"Test accuracy:\", test_accuracy)\n"
      ],
      "metadata": {
        "colab": {
          "base_uri": "https://localhost:8080/"
        },
        "id": "z3uQWUqQDxt_",
        "outputId": "f0f902e5-72d4-43e5-924d-388afde8a5ca"
      },
      "execution_count": 6,
      "outputs": [
        {
          "output_type": "stream",
          "name": "stdout",
          "text": [
            "313/313 [==============================] - 4s 11ms/step - loss: 0.0514 - accuracy: 0.9871\n",
            "Test accuracy: 0.9871000051498413\n"
          ]
        }
      ]
    }
  ]
}